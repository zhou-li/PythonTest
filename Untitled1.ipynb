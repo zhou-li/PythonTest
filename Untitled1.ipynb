{
 "cells": [
  {
   "cell_type": "code",
   "execution_count": 12,
   "metadata": {},
   "outputs": [
    {
     "name": "stdout",
     "output_type": "stream",
     "text": [
      "0 ('a', 'a')\n",
      "1 ('b', 'b')\n",
      "2 ('c', 'c')\n"
     ]
    }
   ],
   "source": [
    "a = \"abc\"\n",
    "b = \"abcdedf\"\n",
    "c = [a,b]\n",
    "for i, letter_group in enumerate(zip(*c)):\n",
    "    print(i, letter_group)"
   ]
  },
  {
   "cell_type": "code",
   "execution_count": 18,
   "metadata": {},
   "outputs": [
    {
     "name": "stdout",
     "output_type": "stream",
     "text": [
      "sdfsdfsd sdfsdfsdf sdfsdfsdfqfds\n"
     ]
    }
   ],
   "source": [
    "test = \"hello world\"\n",
    "m_array = [\"sdfsdfsd\", \"sdfsdfsdf\", \"sdfsdfsdfqfds\"]\n",
    "print(*m_array)"
   ]
  },
  {
   "cell_type": "code",
   "execution_count": null,
   "metadata": {
    "collapsed": true
   },
   "outputs": [],
   "source": []
  }
 ],
 "metadata": {
  "kernelspec": {
   "display_name": "Python 3",
   "language": "python",
   "name": "python3"
  },
  "language_info": {
   "codemirror_mode": {
    "name": "ipython",
    "version": 3
   },
   "file_extension": ".py",
   "mimetype": "text/x-python",
   "name": "python",
   "nbconvert_exporter": "python",
   "pygments_lexer": "ipython3",
   "version": "3.6.0"
  }
 },
 "nbformat": 4,
 "nbformat_minor": 2
}
